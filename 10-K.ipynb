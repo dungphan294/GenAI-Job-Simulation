{
 "cells": [
  {
   "cell_type": "code",
   "execution_count": 2,
   "id": "27cd583e-2fd2-462c-8653-2f07021f21d3",
   "metadata": {},
   "outputs": [],
   "source": [
    "import pandas as pd"
   ]
  },
  {
   "cell_type": "code",
   "execution_count": 3,
   "id": "cf96cd02-77c9-44df-94b3-01a0dc56d332",
   "metadata": {},
   "outputs": [],
   "source": [
    "df = pd.read_csv('/mnt/d/Git/GenAI-Job-Simulation/EDGAR Entity Landing Page.csv')"
   ]
  },
  {
   "cell_type": "code",
   "execution_count": 4,
   "id": "820ab12d-694f-4350-9848-8d40150a87dd",
   "metadata": {},
   "outputs": [
    {
     "data": {
      "text/plain": [
       "Index(['Form type', 'Form description', 'Filing date', 'Reporting date'], dtype='object')"
      ]
     },
     "execution_count": 4,
     "metadata": {},
     "output_type": "execute_result"
    }
   ],
   "source": [
    "df.columns"
   ]
  },
  {
   "cell_type": "code",
   "execution_count": 8,
   "id": "8f11983e-e16c-450e-a9e6-fa78e07d5de7",
   "metadata": {},
   "outputs": [
    {
     "data": {
      "text/plain": [
       "Form type           object\n",
       "Form description    object\n",
       "Filing date         object\n",
       "Reporting date      object\n",
       "dtype: object"
      ]
     },
     "execution_count": 8,
     "metadata": {},
     "output_type": "execute_result"
    }
   ],
   "source": [
    "df.dtypes"
   ]
  },
  {
   "cell_type": "code",
   "execution_count": 9,
   "id": "873a9b70-39a8-4a29-9ad9-6b9783355018",
   "metadata": {},
   "outputs": [
    {
     "data": {
      "text/html": [
       "<div>\n",
       "<style scoped>\n",
       "    .dataframe tbody tr th:only-of-type {\n",
       "        vertical-align: middle;\n",
       "    }\n",
       "\n",
       "    .dataframe tbody tr th {\n",
       "        vertical-align: top;\n",
       "    }\n",
       "\n",
       "    .dataframe thead th {\n",
       "        text-align: right;\n",
       "    }\n",
       "</style>\n",
       "<table border=\"1\" class=\"dataframe\">\n",
       "  <thead>\n",
       "    <tr style=\"text-align: right;\">\n",
       "      <th></th>\n",
       "      <th>Form type</th>\n",
       "      <th>Form description</th>\n",
       "      <th>Filing date</th>\n",
       "      <th>Reporting date</th>\n",
       "    </tr>\n",
       "  </thead>\n",
       "  <tbody>\n",
       "    <tr>\n",
       "      <th>0</th>\n",
       "      <td>10-K</td>\n",
       "      <td>Annual report [Section 13 and 15(d), not S-K I...</td>\n",
       "      <td>2024-07-30</td>\n",
       "      <td>2024-06-30</td>\n",
       "    </tr>\n",
       "    <tr>\n",
       "      <th>1</th>\n",
       "      <td>8-K</td>\n",
       "      <td>Current report</td>\n",
       "      <td>2024-07-30</td>\n",
       "      <td>2024-07-30</td>\n",
       "    </tr>\n",
       "    <tr>\n",
       "      <th>2</th>\n",
       "      <td>PX14A6G</td>\n",
       "      <td>Notice of exempt solicitation submitted by non...</td>\n",
       "      <td>2024-07-29</td>\n",
       "      <td>NaN</td>\n",
       "    </tr>\n",
       "    <tr>\n",
       "      <th>3</th>\n",
       "      <td>PX14A6G</td>\n",
       "      <td>Notice of exempt solicitation submitted by non...</td>\n",
       "      <td>2024-07-26</td>\n",
       "      <td>NaN</td>\n",
       "    </tr>\n",
       "    <tr>\n",
       "      <th>4</th>\n",
       "      <td>11-K</td>\n",
       "      <td>Annual report of employee stock purchase, savi...</td>\n",
       "      <td>2024-06-25</td>\n",
       "      <td>2023-12-31</td>\n",
       "    </tr>\n",
       "    <tr>\n",
       "      <th>5</th>\n",
       "      <td>11-K</td>\n",
       "      <td>Annual report of employee stock purchase, savi...</td>\n",
       "      <td>2024-06-25</td>\n",
       "      <td>2023-12-31</td>\n",
       "    </tr>\n",
       "    <tr>\n",
       "      <th>6</th>\n",
       "      <td>144</td>\n",
       "      <td>Report of proposed sale of securities</td>\n",
       "      <td>2024-06-03</td>\n",
       "      <td>NaN</td>\n",
       "    </tr>\n",
       "    <tr>\n",
       "      <th>7</th>\n",
       "      <td>SD</td>\n",
       "      <td>Form - SD</td>\n",
       "      <td>2024-05-31</td>\n",
       "      <td>NaN</td>\n",
       "    </tr>\n",
       "    <tr>\n",
       "      <th>8</th>\n",
       "      <td>144</td>\n",
       "      <td>Report of proposed sale of securities</td>\n",
       "      <td>2024-05-31</td>\n",
       "      <td>NaN</td>\n",
       "    </tr>\n",
       "    <tr>\n",
       "      <th>9</th>\n",
       "      <td>144</td>\n",
       "      <td>Report of proposed sale of securities</td>\n",
       "      <td>2024-05-23</td>\n",
       "      <td>NaN</td>\n",
       "    </tr>\n",
       "  </tbody>\n",
       "</table>\n",
       "</div>"
      ],
      "text/plain": [
       "  Form type                                   Form description Filing date  \\\n",
       "0      10-K  Annual report [Section 13 and 15(d), not S-K I...  2024-07-30   \n",
       "1       8-K                                     Current report  2024-07-30   \n",
       "2   PX14A6G  Notice of exempt solicitation submitted by non...  2024-07-29   \n",
       "3   PX14A6G  Notice of exempt solicitation submitted by non...  2024-07-26   \n",
       "4      11-K  Annual report of employee stock purchase, savi...  2024-06-25   \n",
       "5      11-K  Annual report of employee stock purchase, savi...  2024-06-25   \n",
       "6       144              Report of proposed sale of securities  2024-06-03   \n",
       "7        SD                                          Form - SD  2024-05-31   \n",
       "8       144              Report of proposed sale of securities  2024-05-31   \n",
       "9       144              Report of proposed sale of securities  2024-05-23   \n",
       "\n",
       "  Reporting date  \n",
       "0     2024-06-30  \n",
       "1     2024-07-30  \n",
       "2            NaN  \n",
       "3            NaN  \n",
       "4     2023-12-31  \n",
       "5     2023-12-31  \n",
       "6            NaN  \n",
       "7            NaN  \n",
       "8            NaN  \n",
       "9            NaN  "
      ]
     },
     "execution_count": 9,
     "metadata": {},
     "output_type": "execute_result"
    }
   ],
   "source": [
    "df.head(10)"
   ]
  }
 ],
 "metadata": {
  "kernelspec": {
   "display_name": "Python 3 (ipykernel)",
   "language": "python",
   "name": "python3"
  },
  "language_info": {
   "codemirror_mode": {
    "name": "ipython",
    "version": 3
   },
   "file_extension": ".py",
   "mimetype": "text/x-python",
   "name": "python",
   "nbconvert_exporter": "python",
   "pygments_lexer": "ipython3",
   "version": "3.10.9"
  }
 },
 "nbformat": 4,
 "nbformat_minor": 5
}
